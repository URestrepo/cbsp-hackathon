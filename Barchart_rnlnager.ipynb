{
 "cells": [
  {
   "cell_type": "code",
   "execution_count": 79,
   "metadata": {},
   "outputs": [
    {
     "name": "stdout",
     "output_type": "stream",
     "text": [
      "SwaggerClient(https://www.cbioportal.org/api)\n"
     ]
    }
   ],
   "source": [
    "from bravado.client import SwaggerClient\n",
    "from pprint import pprint\n",
    "\n",
    "cbioportal = SwaggerClient.from_url('https://www.cbioportal.org/api/api-docs',\n",
    "                                config={\"validate_requests\":False,\"validate_responses\":False})\n",
    "print(cbioportal)"
   ]
  },
  {
   "cell_type": "code",
   "execution_count": 80,
   "metadata": {},
   "outputs": [
    {
     "name": "stdout",
     "output_type": "stream",
     "text": [
      "In total there are 258 studies in cBioPortal, spanning 855 different types of cancer.\n"
     ]
    }
   ],
   "source": [
    "cancer_types = cbioportal.A_Cancer_Types.getAllCancerTypesUsingGET().result()\n",
    "\n",
    "studies = cbioportal.B_Studies.getAllStudiesUsingGET().result()\n",
    "\n",
    "print(\"In total there are {} studies in cBioPortal, spanning {} different types of cancer.\".format(\n",
    "    len(studies),\n",
    "    len(cancer_types)\n",
    "))"
   ]
  },
  {
   "cell_type": "code",
   "execution_count": 81,
   "metadata": {},
   "outputs": [
    {
     "name": "stdout",
     "output_type": "stream",
     "text": [
      "['allSampleCount', 'cancerType', 'cancerTypeId', 'citation', 'cnaSampleCount', 'completeSampleCount', 'description', 'groups', 'importDate', 'methylationHm27SampleCount', 'miRnaSampleCount', 'mrnaMicroarraySampleCount', 'mrnaRnaSeqSampleCount', 'mrnaRnaSeqV2SampleCount', 'name', 'pmid', 'publicStudy', 'rppaSampleCount', 'sequencedSampleCount', 'shortName', 'status', 'studyId']\n"
     ]
    }
   ],
   "source": [
    "print(dir(studies[0]))\n",
    "\n"
   ]
  },
  {
   "cell_type": "code",
   "execution_count": 82,
   "metadata": {},
   "outputs": [
    {
     "name": "stdout",
     "output_type": "stream",
     "text": [
      "The total number of samples in all studies is: 78087\n"
     ]
    }
   ],
   "source": [
    "print(\"The total number of samples in all studies is: {}\".format(sum([x.allSampleCount for x in studies])))"
   ]
  },
  {
   "cell_type": "code",
   "execution_count": 83,
   "metadata": {},
   "outputs": [
    {
     "name": "stdout",
     "output_type": "stream",
     "text": [
      "The msk_impact_2017 study spans 10336 patients\n"
     ]
    },
    {
     "data": {
      "text/plain": [
       "list"
      ]
     },
     "execution_count": 83,
     "metadata": {},
     "output_type": "execute_result"
    }
   ],
   "source": [
    "patients = cbioportal.C_Patients.getAllPatientsInStudyUsingGET(studyId='msk_impact_2017').result()\n",
    "print(\"The msk_impact_2017 study spans {} patients\".format(len(patients)))\n",
    "type(patients)"
   ]
  },
  {
   "cell_type": "code",
   "execution_count": 84,
   "metadata": {},
   "outputs": [
    {
     "name": "stdout",
     "output_type": "stream",
     "text": [
      "84\n",
      "258\n",
      "258\n",
      "258\n",
      "258\n"
     ]
    }
   ],
   "source": [
    "# In total there are 258 studies in cBioPortal, spanning 855 different types of cancer.\n",
    "\n",
    "cancer_study= dict()\n",
    "study_patient= dict()\n",
    "study_mol_profile= dict()\n",
    "study_sample_list= dict()\n",
    "study_cancer= dict()\n",
    "for study in studies: \n",
    "    ID= study.studyId\n",
    "    cancer= study.cancerTypeId \n",
    "    mol_prolile_list= cbioportal.J_Molecular_Profiles.getAllMolecularProfilesInStudyUsingGET(studyId=ID).result()\n",
    "    for profile in mol_prolile_list: \n",
    "        if profile.datatype== \"MAF\": \n",
    "            mol_profile= profile.molecularProfileId\n",
    "    sample_lists= cbioportal.E_Sample_Lists.getAllSampleListsInStudyUsingGET(studyId=ID, sortBy= 'category').result()\n",
    "    study_patient[ID]= cbioportal.C_Patients.getAllPatientsInStudyUsingGET(studyId=ID).result()\n",
    "    study_mol_profile[ID]= mol_profile\n",
    "    study_sample_list[ID]= sample_lists[0].sampleListId\n",
    "    study_cancer[ID]= cancer \n",
    "    if cancer in cancer_study: \n",
    "        cancer_study[cancer].append(ID)\n",
    "    else: \n",
    "        cancer_study[cancer]= [ID]\n",
    "print(len(cancer_study)) \n",
    "print(len(study_patient))\n",
    "print(len(study_mol_profile))\n",
    "print(len(study_sample_list))\n",
    "print(len(study_cancer))"
   ]
  },
  {
   "cell_type": "code",
   "execution_count": 85,
   "metadata": {},
   "outputs": [
    {
     "name": "stdout",
     "output_type": "stream",
     "text": [
      "dict_keys(['bll', 'chol', 'nhl', 'coadread', 'dlbclnos', 'escc', 'hnsc', 'hcc', 'um', 'urcc', 'egc', 'nbl', 'npc', 'tet', 'mds', 'nsclc', 'panet', 'plmeso', 'pact', 'prad', 'past', 'mbl', 'ccrcc', 'cllsll', 'blca', 'liad', 'luad', 'ucec', 'breast', 'soft_tissue', 'utuc', 'ampca', 'brca', 'es', 'sclc', 'nccrcc', 'stad', 'mixed', 'aml', 'skcm', 'ucs', 'acyc', 'vsc', 'esca', 'paac', 'rms', 'pcnsl', 'pcm', 'mrt', 'gbc', 'acc', 'angs', 'bfn', 'hdcn', 'cesc', 'cscc', 'desm', 'mbn', 'chrcc', 'gbm', 'difg', 'prcc', 'lung', 'paad', 'mcl', 'mel', 'mnet', 'scco', 'nsgct', 'thpa', 'thym', 'thyroid', 'uccc', 'lusc', 'wt', 'mpnst', 'acbc', 'hgsoc', 'testis', 'odg', 'bcc', 'mnm', 'coad', 'mpn'])\n"
     ]
    }
   ],
   "source": [
    "print(cancer_study.keys())\n"
   ]
  },
  {
   "cell_type": "code",
   "execution_count": 86,
   "metadata": {},
   "outputs": [
    {
     "name": "stdout",
     "output_type": "stream",
     "text": [
      "2 <class 'list'>\n"
     ]
    },
    {
     "data": {
      "text/plain": [
       "'msk_impact_2017_mutations'"
      ]
     },
     "execution_count": 86,
     "metadata": {},
     "output_type": "execute_result"
    }
   ],
   "source": [
    "mol_profiles = cbioportal.J_Molecular_Profiles.getAllMolecularProfilesInStudyUsingGET(studyId='msk_impact_2017').result()\n",
    "\n",
    "\n",
    "print(len(mol_profiles), type(mol_profiles))\n",
    "mol_profiles[1].molecularProfileId\n",
    "\n"
   ]
  },
  {
   "cell_type": "code",
   "execution_count": 87,
   "metadata": {},
   "outputs": [],
   "source": [
    "# sample_lists = cbioportal.E_Sample_Lists.getAllSampleListsInStudyUsingGET(studyId='msk_impact_2017', sortBy= 'category').result()\n",
    "\n",
    "# print(len(sample_lists), type(sample_lists))\n",
    "# print(sample_lists[0])\n",
    "# for sample in sample_lists: \n",
    "#     print(sample.category)\n",
    "#     print(sample.sampleCount)"
   ]
  },
  {
   "cell_type": "code",
   "execution_count": 91,
   "metadata": {},
   "outputs": [
    {
     "name": "stdout",
     "output_type": "stream",
     "text": [
      "4985 <class 'list'>\n",
      "Mutation(aminoAcidChange=None, center='NA', driverFilter='', driverFilterAnnotation='', driverTiersFilter='', driverTiersFilterAnnotation='', endPosition=7579591, entrezGeneId=7157, fisValue=1.4013e-45, functionalImpactScore='[Not Available]', gene=Gene(chromosome='17', cytoband='17p13.1', entrezGeneId=7157, hugoGeneSymbol='TP53', length=19149, type='protein-coding'), keyword='TP53 truncating', linkMsa='[Not Available]', linkPdb='[Not Available]', linkXvar='[Not Available]', molecularProfileId='msk_impact_2017_mutations', mutationStatus='NA', mutationType='Frame_Shift_Ins', ncbiBuild='GRCh37', normalAltCount=None, normalRefCount=None, patientId='P-0004753', proteinChange='L35Pfs*10', proteinPosEnd=33, proteinPosStart=32, referenceAllele='NA', refseqMrnaId='NM_001126112.2,NM_001276761.1,NM_001276760.1,NM_000546.5,NM_0011', sampleId='P-0004753-T01-IM5', startPosition=7579590, studyId='msk_impact_2017', tumorAltCount=277, tumorRefCount=297, uniquePatientKey='UC0wMDA0NzUzOm1za19pbXBhY3RfMjAxNw', uniqueSampleKey='UC0wMDA0NzUzLVQwMS1JTTU6bXNrX2ltcGFjdF8yMDE3', validationStatus='NA', variantAllele='CT', variantType='INS')\n"
     ]
    }
   ],
   "source": [
    "mutations = cbioportal.K_Mutations.getMutationsInMolecularProfileBySampleListIdUsingGET(\n",
    "    molecularProfileId='msk_impact_2017_mutations',\n",
    "    sampleListId='msk_impact_2017_all',\n",
    "    entrezGeneId= 7157,\n",
    "    projection='DETAILED'\n",
    ").result()\n",
    "\n",
    "print(len(mutations), type(mutations))\n",
    "print(mutations[0])"
   ]
  },
  {
   "cell_type": "code",
   "execution_count": 92,
   "metadata": {},
   "outputs": [],
   "source": [
    "cancer_mutations= dict()\n",
    "user_gene= 7157\n",
    "for ID in study_cancer.keys(): \n",
    "    cancer= study_cancer[ID]\n",
    "    mutation= cbioportal.K_Mutations.getMutationsInMolecularProfileBySampleListIdUsingGET(molecularProfileId= study_mol_profile[ID], sampleListId= study_sample_list[ID] , entrezGeneId= user_gene, projection='DETAILED').result()\n",
    "    if cancer in cancer_mutations: \n",
    "        cancer_mutations[cancer].append(mutation)\n",
    "    else: \n",
    "        cancer_mutations[cancer]= [mutation]\n"
   ]
  },
  {
   "cell_type": "code",
   "execution_count": null,
   "metadata": {},
   "outputs": [],
   "source": []
  }
 ],
 "metadata": {
  "kernelspec": {
   "display_name": "Python 3",
   "language": "python",
   "name": "python3"
  },
  "language_info": {
   "codemirror_mode": {
    "name": "ipython",
    "version": 3
   },
   "file_extension": ".py",
   "mimetype": "text/x-python",
   "name": "python",
   "nbconvert_exporter": "python",
   "pygments_lexer": "ipython3",
   "version": "3.7.3"
  }
 },
 "nbformat": 4,
 "nbformat_minor": 2
}
