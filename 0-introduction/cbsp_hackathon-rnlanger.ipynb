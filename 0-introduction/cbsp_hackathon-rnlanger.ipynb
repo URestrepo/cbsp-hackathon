{
 "cells": [
  {
   "cell_type": "markdown",
   "metadata": {},
   "source": [
    "# Computation Biology Summer Program Hackathon"
   ]
  },
  {
   "cell_type": "markdown",
   "metadata": {},
   "source": [
    "This [Jupyter notebook](https://jupyter.org/) gives examples on how to use the various [REST](https://en.wikipedia.org/wiki/Representational_state_transfer) web services from the [Knowledge Systems Group](https://www.mskcc.org/research-areas/labs/nikolaus-schultz). In this hackathon we will pull data from those APIs to make visualizations."
   ]
  },
  {
   "cell_type": "markdown",
   "metadata": {},
   "source": [
    "## How to run the notebook"
   ]
  },
  {
   "cell_type": "markdown",
   "metadata": {},
   "source": [
    "This notebook can be executed on your own machine after installing Jupyter. Please install the Python 3 version of anaconda: https://www.anaconda.com/download/. After having that set up you can install Jupyter with:\n",
    "\n",
    "```bash\n",
    "conda install jupyter\n",
    "\n",
    "```\n",
    "\n",
    "For these examples we also require the [Swagger API](https://swagger.io/specification/) client `bravado`.\n",
    "\n",
    "```bash\n",
    "conda install -c conda-forge bravado\n",
    "```\n",
    "\n",
    "And the popular data analysis libraries pandas, matplotlib and seaborn:\n",
    "\n",
    "```\n",
    "conda install pandas matplotlib seaborn\n",
    "```\n",
    "\n",
    "Then clone this repo:\n",
    "\n",
    "```\n",
    "git clone https://github.com/mskcc/cbsp-hackathon\n",
    "```\n",
    "\n",
    "And run Jupyter in this folder\n",
    "```\n",
    "cd cbsp-hackathon/0-introduction\n",
    "jupyter\n",
    "```\n",
    "That should open Jupyter in a new browser window and you should be able to open this notebook using the web interface. You can then follow along with the next steps."
   ]
  },
  {
   "cell_type": "markdown",
   "metadata": {},
   "source": [
    "## How to use the notebook"
   ]
  },
  {
   "cell_type": "markdown",
   "metadata": {},
   "source": [
    "The notebook consists of cells which can be executed by clicking on one and pressing shift+f. In the toolbar at the top there is a dropdown which indicates what type of cell you have selected e.g. `Code` or [Markdown](https://en.wikipedia.org/wiki/Markdown). The former will be executed as raw Python code the latter is a markup language and will be run through a Markdown parser. Both generate HTML that will be printed directly to the notebook page.\n",
    "\n",
    "There a few keyboard shortcuts that are good to know. That is: `b` creates a new cell below the one you've selected and `a` above the one you selected. Editing a cell can be done with a single click for a code cell and a double click for a Markdown cell. A complete list of all keyboard shortcuts can be found by pressing the keyboard icon in the toolbar at the top.\n",
    "\n",
    " Give it a shot by editing one of the cells and pressing shift+f."
   ]
  },
  {
   "cell_type": "markdown",
   "metadata": {},
   "source": [
    "## Using the REST APIs"
   ]
  },
  {
   "cell_type": "markdown",
   "metadata": {},
   "source": [
    "All [REST](https://en.wikipedia.org/wiki/Representational_state_transfer) web services from the [Knowledge Systems Group](https://www.mskcc.org/research-areas/labs/nikolaus-schultz) we will be using in this tutorial have their REST APIs defined following the [Open API / Swagger specification](https://swagger.io/specification/). This allows us to use `bravado` to connect to them directly, and explore the API interactively.\n",
    "\n",
    "For example this is how to connect to the [cBioPortal](https://www.cbioportal.org) API:"
   ]
  },
  {
   "cell_type": "code",
   "execution_count": 14,
   "metadata": {},
   "outputs": [
    {
     "name": "stdout",
     "output_type": "stream",
     "text": [
      "SwaggerClient(https://www.cbioportal.org/api)\n"
     ]
    }
   ],
   "source": [
    "from bravado.client import SwaggerClient\n",
    "\n",
    "cbioportal = SwaggerClient.from_url('https://www.cbioportal.org/api/api-docs',\n",
    "                                config={\"validate_requests\":False,\"validate_responses\":False})\n",
    "print(cbioportal)"
   ]
  },
  {
   "cell_type": "markdown",
   "metadata": {},
   "source": [
    "You can now explore the API by using code completion, press `Tab` after typing `cbioportal.`:"
   ]
  },
  {
   "cell_type": "code",
   "execution_count": 15,
   "metadata": {},
   "outputs": [
    {
     "data": {
      "text/plain": [
       "<bravado.client.ResourceDecorator at 0x11421e668>"
      ]
     },
     "execution_count": 15,
     "metadata": {},
     "output_type": "execute_result"
    }
   ],
   "source": [
    "cbioportal.A_Cancer_Types\n"
   ]
  },
  {
   "cell_type": "markdown",
   "metadata": {},
   "source": [
    "This will give a dropdown with all the different APIs, similar to how you can see them here on the cBioPortal website: https://www.cbioportal.org/api/swagger-ui.html#/.\n",
    "\n",
    "You can also get the parameters to a specific endpoint by pressing shift+tab twice after typing the name of the specific endpoint e.g.:"
   ]
  },
  {
   "cell_type": "code",
   "execution_count": 16,
   "metadata": {},
   "outputs": [
    {
     "data": {
      "text/plain": [
       "<bravado.client.CallableOperation at 0x113a2c668>"
      ]
     },
     "execution_count": 16,
     "metadata": {},
     "output_type": "execute_result"
    }
   ],
   "source": [
    "cbioportal.A_Cancer_Types.getCancerTypeUsingGET"
   ]
  },
  {
   "cell_type": "markdown",
   "metadata": {},
   "source": [
    "That shows one of the parameters is `cancerTypeId` of type `string`, the example `acc` is mentioned:"
   ]
  },
  {
   "cell_type": "code",
   "execution_count": 17,
   "metadata": {},
   "outputs": [
    {
     "name": "stdout",
     "output_type": "stream",
     "text": [
      "TypeOfCancer(cancerTypeId='acc', clinicalTrialKeywords='adrenocortical carcinoma', dedicatedColor='Purple', name='Adrenocortical Carcinoma', parent='adrenal_gland', shortName='ACC')\n"
     ]
    }
   ],
   "source": [
    "acc = cbioportal.A_Cancer_Types.getCancerTypeUsingGET(cancerTypeId='acc').result()\n",
    "print(acc)"
   ]
  },
  {
   "cell_type": "markdown",
   "metadata": {},
   "source": [
    "You can see that the JSON output returned by the cBioPortal API gets automatically converted into an object called `TypeOfCancer`. This object can be explored interactively as well by pressing tab after typing `acc.`:"
   ]
  },
  {
   "cell_type": "code",
   "execution_count": 18,
   "metadata": {},
   "outputs": [
    {
     "data": {
      "text/plain": [
       "'acc'"
      ]
     },
     "execution_count": 18,
     "metadata": {},
     "output_type": "execute_result"
    }
   ],
   "source": [
    "acc.cancerTypeId\n"
   ]
  },
  {
   "cell_type": "markdown",
   "metadata": {},
   "source": [
    "### cBioPortal API"
   ]
  },
  {
   "cell_type": "markdown",
   "metadata": {},
   "source": [
    "[cBioPortal](https://www.cbioportal.org) stores cancer genomics data from a large number of published studies. Let's figure out:\n",
    "\n",
    "- how many studies are there?\n",
    "- how many cancer types do they span?\n",
    "- how many samples in total?\n",
    "- which study has the largest number of samples?"
   ]
  },
  {
   "cell_type": "code",
   "execution_count": 19,
   "metadata": {},
   "outputs": [
    {
     "name": "stdout",
     "output_type": "stream",
     "text": [
      "In total there are 258 studies in cBioPortal, spanning 855 different types of cancer.\n"
     ]
    }
   ],
   "source": [
    "studies = cbioportal.B_Studies.getAllStudiesUsingGET().result()\n",
    "cancer_types = cbioportal.A_Cancer_Types.getAllCancerTypesUsingGET().result()\n",
    "\n",
    "print(\"In total there are {} studies in cBioPortal, spanning {} different types of cancer.\".format(\n",
    "    len(studies),\n",
    "    len(cancer_types)\n",
    "))"
   ]
  },
  {
   "cell_type": "markdown",
   "metadata": {},
   "source": [
    "To get the total number of samples in each study we have to look a bit more at the response of the studies endpoint:"
   ]
  },
  {
   "cell_type": "code",
   "execution_count": 20,
   "metadata": {},
   "outputs": [
    {
     "data": {
      "text/plain": [
       "['allSampleCount',\n",
       " 'cancerType',\n",
       " 'cancerTypeId',\n",
       " 'citation',\n",
       " 'cnaSampleCount',\n",
       " 'completeSampleCount',\n",
       " 'description',\n",
       " 'groups',\n",
       " 'importDate',\n",
       " 'methylationHm27SampleCount',\n",
       " 'miRnaSampleCount',\n",
       " 'mrnaMicroarraySampleCount',\n",
       " 'mrnaRnaSeqSampleCount',\n",
       " 'mrnaRnaSeqV2SampleCount',\n",
       " 'name',\n",
       " 'pmid',\n",
       " 'publicStudy',\n",
       " 'rppaSampleCount',\n",
       " 'sequencedSampleCount',\n",
       " 'shortName',\n",
       " 'status',\n",
       " 'studyId']"
      ]
     },
     "execution_count": 20,
     "metadata": {},
     "output_type": "execute_result"
    }
   ],
   "source": [
    "dir(studies[0])"
   ]
  },
  {
   "cell_type": "markdown",
   "metadata": {},
   "source": [
    "We can sum the `allSampleCount` values of each study in cBioPortal:"
   ]
  },
  {
   "cell_type": "code",
   "execution_count": 21,
   "metadata": {},
   "outputs": [
    {
     "name": "stdout",
     "output_type": "stream",
     "text": [
      "The total number of samples in all studies is: 78087\n"
     ]
    }
   ],
   "source": [
    "print(\"The total number of samples in all studies is: {}\".format(sum([x.allSampleCount for x in studies])))"
   ]
  },
  {
   "cell_type": "markdown",
   "metadata": {},
   "source": [
    "Let's see which study has the largest number of samples:"
   ]
  },
  {
   "cell_type": "code",
   "execution_count": 22,
   "metadata": {},
   "outputs": [
    {
     "data": {
      "text/plain": [
       "CancerStudy(allSampleCount=10945, cancerType=None, cancerTypeId='mixed', citation='Zehir et al. Nat Med 2017', cnaSampleCount=None, completeSampleCount=None, description='Targeted sequencing of 10,000 clinical cases using the MSK-IMPACT assay', groups='PUBLIC', importDate='2019-05-07 00:00:00', methylationHm27SampleCount=None, miRnaSampleCount=None, mrnaMicroarraySampleCount=None, mrnaRnaSeqSampleCount=None, mrnaRnaSeqV2SampleCount=None, name='MSK-IMPACT Clinical Sequencing Cohort (MSKCC, Nat Med 2017)', pmid='28481359', publicStudy=True, rppaSampleCount=None, sequencedSampleCount=None, shortName='MSK-IMPACT', status=0, studyId='msk_impact_2017')"
      ]
     },
     "execution_count": 22,
     "metadata": {},
     "output_type": "execute_result"
    }
   ],
   "source": [
    "sorted_studies = sorted(studies, key=lambda x: x.allSampleCount)\n",
    "sorted_studies[-1]"
   ]
  },
  {
   "cell_type": "markdown",
   "metadata": {},
   "source": [
    "Make it as little easier to read using pretty print:"
   ]
  },
  {
   "cell_type": "code",
   "execution_count": 23,
   "metadata": {},
   "outputs": [
    {
     "ename": "KeyError",
     "evalue": "'_Model__dict'",
     "output_type": "error",
     "traceback": [
      "\u001b[0;31m---------------------------------------------------------------------------\u001b[0m",
      "\u001b[0;31mKeyError\u001b[0m                                  Traceback (most recent call last)",
      "\u001b[0;32m<ipython-input-23-f7d9f28afd7d>\u001b[0m in \u001b[0;36m<module>\u001b[0;34m\u001b[0m\n\u001b[1;32m      1\u001b[0m \u001b[0;32mfrom\u001b[0m \u001b[0mpprint\u001b[0m \u001b[0;32mimport\u001b[0m \u001b[0mpprint\u001b[0m\u001b[0;34m\u001b[0m\u001b[0;34m\u001b[0m\u001b[0m\n\u001b[0;32m----> 2\u001b[0;31m \u001b[0mpprint\u001b[0m\u001b[0;34m(\u001b[0m\u001b[0mvars\u001b[0m\u001b[0;34m(\u001b[0m\u001b[0msorted_studies\u001b[0m\u001b[0;34m[\u001b[0m\u001b[0;34m-\u001b[0m\u001b[0;36m1\u001b[0m\u001b[0;34m]\u001b[0m\u001b[0;34m)\u001b[0m\u001b[0;34m[\u001b[0m\u001b[0;34m'_Model__dict'\u001b[0m\u001b[0;34m]\u001b[0m\u001b[0;34m)\u001b[0m\u001b[0;34m\u001b[0m\u001b[0;34m\u001b[0m\u001b[0m\n\u001b[0m",
      "\u001b[0;31mKeyError\u001b[0m: '_Model__dict'"
     ]
    }
   ],
   "source": [
    "from pprint import pprint\n",
    "pprint(vars(sorted_studies[-1])['_Model__dict'])"
   ]
  },
  {
   "cell_type": "markdown",
   "metadata": {},
   "source": [
    "Now that we've answered the inital questions we can dig a little deeper into this specific study:\n",
    "\n",
    "- How many patients are in this study?\n",
    "- What gene is most commonly mutated across the different samples?\n",
    "- Does this study span one or more types of cancer?\n",
    "\n",
    "The description of the study with id `msk_impact_2017` study mentions there are 10,000 patients sequenced. Can we find this data in the cBioPortal?"
   ]
  },
  {
   "cell_type": "code",
   "execution_count": 24,
   "metadata": {},
   "outputs": [
    {
     "name": "stdout",
     "output_type": "stream",
     "text": [
      "The msk_impact_2017 study spans 10336 patients\n"
     ]
    }
   ],
   "source": [
    "patients = cbioportal.C_Patients.getAllPatientsInStudyUsingGET(studyId='msk_impact_2017').result()\n",
    "print(\"The msk_impact_2017 study spans {} patients\".format(len(patients)))"
   ]
  },
  {
   "cell_type": "markdown",
   "metadata": {},
   "source": [
    "Now let's try to figure out what gene is most commonly mutated. For this we can check the endpoints in the group `K_Mutations`. When looking at these endpoints it seems that a study can have multiple molecular profiles. This is because samples might have been sequenced using different assays (e.g. targeting a subset of genes or all genes). An example for the `acc_tcga` study is given for a molecular profile (`acc_tcga_mutations`) and a collection of samples (`msk_impact_2017_all`). We can use the same approach for the `msk_impact_2017` study. This will take a few seconds.  You can use the command `%%time` to time a cell):"
   ]
  },
  {
   "cell_type": "code",
   "execution_count": 25,
   "metadata": {},
   "outputs": [
    {
     "name": "stdout",
     "output_type": "stream",
     "text": [
      "CPU times: user 4.07 s, sys: 264 ms, total: 4.34 s\n",
      "Wall time: 6.98 s\n"
     ]
    }
   ],
   "source": [
    "%%time\n",
    "\n",
    "mutations = cbioportal.K_Mutations.getMutationsInMolecularProfileBySampleListIdUsingGET(\n",
    "    molecularProfileId='msk_impact_2017_mutations',\n",
    "    sampleListId='msk_impact_2017_all'\n",
    ").result()"
   ]
  },
  {
   "cell_type": "markdown",
   "metadata": {},
   "source": [
    "We can explore what the mutation data structure looks like:"
   ]
  },
  {
   "cell_type": "code",
   "execution_count": null,
   "metadata": {
    "scrolled": false
   },
   "outputs": [],
   "source": []
  },
  {
   "cell_type": "markdown",
   "metadata": {},
   "source": [
    "It seems that the `gene` field is not filled in. To keep the response size of the API small, the API uses a parameter called `projection` that indicates whether or not to return all fields of an object or only a portion of the fields. By default it will use the `SUMMARY` projection. But because in this case we want to `gene` information, we'll use the `DETAILED` projection instead, so let's update the previous statement:"
   ]
  },
  {
   "cell_type": "code",
   "execution_count": 31,
   "metadata": {},
   "outputs": [
    {
     "name": "stdout",
     "output_type": "stream",
     "text": [
      "CPU times: user 5.71 s, sys: 313 ms, total: 6.02 s\n",
      "Wall time: 10.1 s\n"
     ]
    }
   ],
   "source": [
    "%%time \n",
    "\n",
    "mutations = cbioportal.K_Mutations.getMutationsInMolecularProfileBySampleListIdUsingGET(\n",
    "    molecularProfileId='msk_impact_2017_mutations',\n",
    "    sampleListId='msk_impact_2017_all',\n",
    "    projection='DETAILED'\n",
    ").result()"
   ]
  },
  {
   "cell_type": "markdown",
   "metadata": {},
   "source": [
    "You can see the response time is slightly slower. Let's check if the gene field is filled in now:"
   ]
  },
  {
   "cell_type": "code",
   "execution_count": 33,
   "metadata": {},
   "outputs": [
    {
     "ename": "KeyError",
     "evalue": "'Model__dict'",
     "output_type": "error",
     "traceback": [
      "\u001b[0;31m---------------------------------------------------------------------------\u001b[0m",
      "\u001b[0;31mKeyError\u001b[0m                                  Traceback (most recent call last)",
      "\u001b[0;32m<ipython-input-33-c47f525a4e8c>\u001b[0m in \u001b[0;36m<module>\u001b[0;34m\u001b[0m\n\u001b[0;32m----> 1\u001b[0;31m \u001b[0mpprint\u001b[0m\u001b[0;34m(\u001b[0m\u001b[0mvars\u001b[0m\u001b[0;34m(\u001b[0m\u001b[0mmutations\u001b[0m\u001b[0;34m[\u001b[0m\u001b[0;36m0\u001b[0m\u001b[0;34m]\u001b[0m\u001b[0;34m)\u001b[0m\u001b[0;34m[\u001b[0m\u001b[0;34m'Model__dict'\u001b[0m\u001b[0;34m]\u001b[0m\u001b[0;34m)\u001b[0m\u001b[0;34m\u001b[0m\u001b[0;34m\u001b[0m\u001b[0m\n\u001b[0m",
      "\u001b[0;31mKeyError\u001b[0m: 'Model__dict'"
     ]
    }
   ],
   "source": [
    "pprint(vars(mutations[0])['_Model__dict'])"
   ]
  },
  {
   "cell_type": "markdown",
   "metadata": {},
   "source": [
    "Now that we have the gene field we can check what gene is most commonly mutated: "
   ]
  },
  {
   "cell_type": "code",
   "execution_count": 34,
   "metadata": {},
   "outputs": [
    {
     "data": {
      "text/plain": [
       "[('TP53', 4985),\n",
       " ('APC', 1698),\n",
       " ('KRAS', 1671),\n",
       " ('TERT', 1564),\n",
       " ('PIK3CA', 1519)]"
      ]
     },
     "execution_count": 34,
     "metadata": {},
     "output_type": "execute_result"
    }
   ],
   "source": [
    "from collections import Counter\n",
    "mutation_counts = Counter([m.gene.hugoGeneSymbol for m in mutations])\n",
    "mutation_counts.most_common(5)"
   ]
  },
  {
   "cell_type": "markdown",
   "metadata": {},
   "source": [
    "We can verify that these results are correct by looking at the study view of the MSK-IMPACT study on the cBioPortal website: https://www.cbioportal.org/study/summary?id=msk_impact_2017. Note that the website uses the REST API we've been using in this hackathon, so we would expect those numbers to be the same, but good to do a sanity check. We see that the number of patients is indeed 10,336. But the number of samples with a mutation in TP53 is 4,561 instead of 4,985. Can you spot why they differ?\n",
    "\n",
    "Next question:\n",
    "\n",
    "- How many samples have a TP53 mutation?\n",
    "\n",
    "For this exercise it might be useful to use a [pandas dataframe](https://pandas.pydata.org/) to be able to do grouping operations. You can convert the mutations result to a dataframe like this:"
   ]
  },
  {
   "cell_type": "code",
   "execution_count": 35,
   "metadata": {},
   "outputs": [
    {
     "ename": "KeyError",
     "evalue": "'_Model__dict'",
     "output_type": "error",
     "traceback": [
      "\u001b[0;31m---------------------------------------------------------------------------\u001b[0m",
      "\u001b[0;31mKeyError\u001b[0m                                  Traceback (most recent call last)",
      "\u001b[0;32m<ipython-input-35-fb2bf0749ff3>\u001b[0m in \u001b[0;36m<module>\u001b[0;34m\u001b[0m\n\u001b[1;32m      7\u001b[0m         **m.__dict__['_Model__dict']['gene'].__dict__['_Model__dict']) \n\u001b[1;32m      8\u001b[0m     \u001b[0;31m# create one item in the list for each mutation\u001b[0m\u001b[0;34m\u001b[0m\u001b[0;34m\u001b[0m\u001b[0;34m\u001b[0m\u001b[0m\n\u001b[0;32m----> 9\u001b[0;31m     \u001b[0;32mfor\u001b[0m \u001b[0mm\u001b[0m \u001b[0;32min\u001b[0m \u001b[0mmutations\u001b[0m\u001b[0;34m\u001b[0m\u001b[0;34m\u001b[0m\u001b[0m\n\u001b[0m\u001b[1;32m     10\u001b[0m ])\n",
      "\u001b[0;32m<ipython-input-35-fb2bf0749ff3>\u001b[0m in \u001b[0;36m<listcomp>\u001b[0;34m(.0)\u001b[0m\n\u001b[1;32m      7\u001b[0m         **m.__dict__['_Model__dict']['gene'].__dict__['_Model__dict']) \n\u001b[1;32m      8\u001b[0m     \u001b[0;31m# create one item in the list for each mutation\u001b[0m\u001b[0;34m\u001b[0m\u001b[0;34m\u001b[0m\u001b[0;34m\u001b[0m\u001b[0m\n\u001b[0;32m----> 9\u001b[0;31m     \u001b[0;32mfor\u001b[0m \u001b[0mm\u001b[0m \u001b[0;32min\u001b[0m \u001b[0mmutations\u001b[0m\u001b[0;34m\u001b[0m\u001b[0;34m\u001b[0m\u001b[0m\n\u001b[0m\u001b[1;32m     10\u001b[0m ])\n",
      "\u001b[0;31mKeyError\u001b[0m: '_Model__dict'"
     ]
    }
   ],
   "source": [
    "import pandas as pd\n",
    "\n",
    "mdf = pd.DataFrame.from_dict([\n",
    "    # python magic that combines two dictionaries:\n",
    "    dict(\n",
    "        m.__dict__['_Model__dict'],\n",
    "        **m.__dict__['_Model__dict']['gene'].__dict__['_Model__dict']) \n",
    "    # create one item in the list for each mutation\n",
    "    for m in mutations\n",
    "])"
   ]
  },
  {
   "cell_type": "markdown",
   "metadata": {},
   "source": [
    "The DataFrame is a data type originally from `Matlab` and `R` that makes it easier to work with columnar data. Pandas brings that data type to Python. There are also several performance optimizations by it using the data types from [numpy](https://www.numpy.org/).\n",
    "\n",
    "Now that you have the data in a Dataframe you can group the mutations by the gene name and count the number of unique samples in TP53:"
   ]
  },
  {
   "cell_type": "code",
   "execution_count": null,
   "metadata": {},
   "outputs": [],
   "source": [
    "sample_count_per_gene = mdf.groupby('hugoGeneSymbol')['uniqueSampleKey'].nunique()\n",
    "\n",
    "print(\"There are {} samples with a mutation in TP53\".format(\n",
    "    sample_count_per_gene['TP53']\n",
    "))"
   ]
  },
  {
   "cell_type": "markdown",
   "metadata": {},
   "source": [
    "It would be nice to visualize this result in context of the other genes by plotting the top 10 most mutated genes. For this you can use the matplotlib interface that integrates with pandas.\n",
    "\n",
    "First  inline plotting in the notebook:"
   ]
  },
  {
   "cell_type": "code",
   "execution_count": 36,
   "metadata": {},
   "outputs": [],
   "source": [
    "%matplotlib inline"
   ]
  },
  {
   "cell_type": "code",
   "execution_count": null,
   "metadata": {},
   "outputs": [],
   "source": [
    "sample_count_per_gene.sort_values(ascending=False).head(10).plot(kind='bar')"
   ]
  },
  {
   "cell_type": "markdown",
   "metadata": {},
   "source": [
    "Make it look a little nicer by importing seaborn:"
   ]
  },
  {
   "cell_type": "code",
   "execution_count": null,
   "metadata": {},
   "outputs": [],
   "source": [
    "import seaborn as sns\n",
    "sns.set_style(\"white\")\n",
    "sns.set_context('notebook')"
   ]
  },
  {
   "cell_type": "code",
   "execution_count": null,
   "metadata": {},
   "outputs": [],
   "source": [
    "sample_count_per_gene.sort_values(ascending=False).head(10).plot(kind='bar')\n",
    "sns.despine(trim=False)"
   ]
  },
  {
   "cell_type": "markdown",
   "metadata": {},
   "source": [
    "You can further change the plot a bit by using the arguments to the plot function or using the matplotlib interface directly:"
   ]
  },
  {
   "cell_type": "code",
   "execution_count": null,
   "metadata": {},
   "outputs": [],
   "source": [
    "import matplotlib.pyplot as plt\n",
    "\n",
    "sample_count_per_gene.sort_values(ascending=False).head(10).plot(\n",
    "    kind='bar',\n",
    "    ylim=[0,5000],\n",
    "    color='green'\n",
    ")\n",
    "sns.despine(trim=False)\n",
    "plt.xlabel('')\n",
    "plt.xticks(rotation=300)\n",
    "plt.ylabel('Number of samples',labelpad=20)\n",
    "plt.title('Number of mutations in genes in MSK-IMPACT (2017)',pad=25)"
   ]
  },
  {
   "cell_type": "markdown",
   "metadata": {},
   "source": [
    "A further extension of this plot could be to color the bar chart by the type of mutation in that sample (`mdf.mutationType`) and to include copy number alterations (see `L. Discrete Copy Number Alterations` endpoints)."
   ]
  },
  {
   "cell_type": "markdown",
   "metadata": {},
   "source": [
    "### Genome Nexus API"
   ]
  },
  {
   "cell_type": "markdown",
   "metadata": {},
   "source": [
    "[Genome Nexus](https://www.genomenexus.org) is a web service that aggregates all cancer related information about a particular mutation. Similarly to cBioPortal it provides a REST API following the [Swagger / OpenAPI specification](https://swagger.io/specification/)."
   ]
  },
  {
   "cell_type": "code",
   "execution_count": null,
   "metadata": {},
   "outputs": [],
   "source": [
    "from bravado.client import SwaggerClient\n",
    "\n",
    "gn = SwaggerClient.from_url('https://www.genomenexus.org/v2/api-docs',\n",
    "                            config={\"validate_requests\":False,\n",
    "                                    \"validate_responses\":False,\n",
    "                                    \"validate_swagger_spec\":False})\n",
    "print(gn)"
   ]
  },
  {
   "cell_type": "markdown",
   "metadata": {},
   "source": [
    "To look up annotations for a single variant, one can use the following endpoint:"
   ]
  },
  {
   "cell_type": "code",
   "execution_count": null,
   "metadata": {},
   "outputs": [],
   "source": [
    "variant = gn.annotation_controller.fetchVariantAnnotationByGenomicLocationGET(\n",
    "    genomicLocation='7,140453136,140453136,A,T',\n",
    "    # adds extra annotation resources, not included in default response:\n",
    "    fields='hotspots mutation_assessor annotation_summary'.split()\n",
    ").result()"
   ]
  },
  {
   "cell_type": "markdown",
   "metadata": {},
   "source": [
    "You can see a lot of information is provided for that particular variant if you type tab after `variant.`:"
   ]
  },
  {
   "cell_type": "code",
   "execution_count": null,
   "metadata": {},
   "outputs": [],
   "source": [
    "variant."
   ]
  },
  {
   "cell_type": "markdown",
   "metadata": {},
   "source": [
    "For this example we will focus on the hotspot annotation and ignore the others. [Cancer hotspots](https://www.cancerhotspots.org/) is a popular web resource  which indicates whether particular variants have been found to be recurrently mutated in large scale cancer genomics data.\n",
    "\n",
    "The example variant above is a hotspot:"
   ]
  },
  {
   "cell_type": "code",
   "execution_count": null,
   "metadata": {},
   "outputs": [],
   "source": [
    "variant.hotspots"
   ]
  },
  {
   "cell_type": "markdown",
   "metadata": {},
   "source": [
    "Let's see how many hotspot mutations there are in the Cholangiocarcinoma (TCGA, PanCancer Atlas) study with study id `chol_tcga_pan_can_atlas_2018` from the cBioPortal:"
   ]
  },
  {
   "cell_type": "code",
   "execution_count": null,
   "metadata": {
    "scrolled": true
   },
   "outputs": [],
   "source": [
    "%%time\n",
    "\n",
    "cbioportal = SwaggerClient.from_url('https://www.cbioportal.org/api/api-docs',\n",
    "                                config={\"validate_requests\":False,\"validate_responses\":False})\n",
    "\n",
    "mutations = cbioportal.K_Mutations.getMutationsInMolecularProfileBySampleListIdUsingGET(\n",
    "    molecularProfileId='chol_tcga_pan_can_atlas_2018_mutations',\n",
    "    sampleListId='chol_tcga_pan_can_atlas_2018_all',\n",
    "    projection='DETAILED'\n",
    ").result()"
   ]
  },
  {
   "cell_type": "markdown",
   "metadata": {},
   "source": [
    "Convert the results to a dataframe again:"
   ]
  },
  {
   "cell_type": "code",
   "execution_count": null,
   "metadata": {},
   "outputs": [],
   "source": [
    "import pandas as pd\n",
    "\n",
    "mdf = pd.DataFrame.from_dict([\n",
    "    # python magic that combines two dictionaries:\n",
    "    dict(\n",
    "        m.__dict__['_Model__dict'],\n",
    "        **m.__dict__['_Model__dict']['gene'].__dict__['_Model__dict']) \n",
    "    # create one item in the list for each mutation\n",
    "    for m in mutations\n",
    "])"
   ]
  },
  {
   "cell_type": "markdown",
   "metadata": {},
   "source": [
    "Then get only the unique mutations, to avoid calling the web service with the same variants:"
   ]
  },
  {
   "cell_type": "code",
   "execution_count": null,
   "metadata": {},
   "outputs": [],
   "source": [
    "variants = mdf['chromosome startPosition endPosition referenceAllele variantAllele'.split()]\\\n",
    "    .drop_duplicates()\\\n",
    "    .dropna(how='any',axis=0)\\\n",
    "    .reset_index()"
   ]
  },
  {
   "cell_type": "markdown",
   "metadata": {},
   "source": [
    "Convert them to input that genome nexus will understand:"
   ]
  },
  {
   "cell_type": "code",
   "execution_count": null,
   "metadata": {},
   "outputs": [],
   "source": [
    "variants = variants.rename(columns={'startPosition':'start','endPosition':'end'})\\\n",
    "    .to_dict(orient='records')\n",
    "# remove the index field\n",
    "for v in variants:\n",
    "    del v['index']"
   ]
  },
  {
   "cell_type": "code",
   "execution_count": null,
   "metadata": {},
   "outputs": [],
   "source": [
    "print(\"There are {} mutations left to annotate\".format(len(variants)))"
   ]
  },
  {
   "cell_type": "markdown",
   "metadata": {},
   "source": [
    "Annotate them with genome nexus:"
   ]
  },
  {
   "cell_type": "code",
   "execution_count": null,
   "metadata": {},
   "outputs": [],
   "source": [
    "%%time \n",
    "\n",
    "variants_annotated = gn.annotation_controller.fetchVariantAnnotationByGenomicLocationPOST(\n",
    "    genomicLocations=variants,\n",
    "    fields='hotspots annotation_summary'.split()\n",
    ").result()"
   ]
  },
  {
   "cell_type": "markdown",
   "metadata": {},
   "source": [
    "Index the variants to make it easier to query them:"
   ]
  },
  {
   "cell_type": "code",
   "execution_count": null,
   "metadata": {},
   "outputs": [],
   "source": [
    "gn_dict = {\n",
    "    \"{},{},{},{},{}\".format(\n",
    "        v.annotation_summary.genomicLocation.chromosome,\n",
    "        v.annotation_summary.genomicLocation.start,\n",
    "        v.annotation_summary.genomicLocation.end,\n",
    "        v.annotation_summary.genomicLocation.referenceAllele,\n",
    "        v.annotation_summary.genomicLocation.variantAllele)\n",
    "        :\n",
    "        v for v in variants_annotated\n",
    "}"
   ]
  },
  {
   "cell_type": "markdown",
   "metadata": {},
   "source": [
    "Add a new column to indicate whether something is a hotspot"
   ]
  },
  {
   "cell_type": "code",
   "execution_count": null,
   "metadata": {},
   "outputs": [],
   "source": [
    "def is_hotspot(x):\n",
    "    \"\"\"TODO: Current structure for hotspots in Genome Nexus is a little funky.\n",
    "    Need to check whether all lists in the annotation field are empty.\"\"\"\n",
    "    if x:\n",
    "        return sum([len(a) for a in x.hotspots.annotation]) > 0\n",
    "    else:\n",
    "        return False\n",
    "\n",
    "def create_dict_query_key(x):\n",
    "    return \"{},{},{},{},{}\".format(\n",
    "        x.chromosome, x.startPosition, x.endPosition, x.referenceAllele, x.variantAllele\n",
    "    )"
   ]
  },
  {
   "cell_type": "code",
   "execution_count": null,
   "metadata": {},
   "outputs": [],
   "source": [
    "mdf['is_hotspot'] = mdf.apply(lambda x: is_hotspot(gn_dict.get(create_dict_query_key(x), None)), axis=1)"
   ]
  },
  {
   "cell_type": "markdown",
   "metadata": {},
   "source": [
    "Then plot the results:"
   ]
  },
  {
   "cell_type": "code",
   "execution_count": null,
   "metadata": {},
   "outputs": [],
   "source": [
    "%matplotlib inline\n",
    "import seaborn as sns\n",
    "sns.set_style(\"white\")\n",
    "sns.set_context('notebook')\n",
    "import matplotlib.pyplot as plt"
   ]
  },
  {
   "cell_type": "code",
   "execution_count": null,
   "metadata": {},
   "outputs": [],
   "source": [
    "mdf.groupby('hugoGeneSymbol').is_hotspot.sum().sort_values(ascending=False).head(10).plot(kind='bar')\n",
    "\n",
    "sns.despine(trim=False)\n",
    "plt.xlabel('')\n",
    "plt.xticks(rotation=300)\n",
    "plt.ylabel('Number of non-unique hotspots',labelpad=20)\n",
    "plt.title('Hotspots in Cholangiocarcinoma (TCGA, PanCancer Atlas)',pad=25)"
   ]
  },
  {
   "cell_type": "markdown",
   "metadata": {},
   "source": [
    "### OncoKB API"
   ]
  },
  {
   "cell_type": "markdown",
   "metadata": {},
   "source": [
    "[OncoKB](https://oncokb.org) is is a precision oncology knowledge base and contains information about the effects and treatment implications of specific cancer gene alterations. Similarly to cBioPortal and Genome Nexus it provides a REST API following the [Swagger / OpenAPI specification](https://swagger.io/specification/)."
   ]
  },
  {
   "cell_type": "code",
   "execution_count": null,
   "metadata": {
    "scrolled": true
   },
   "outputs": [],
   "source": [
    "oncokb = SwaggerClient.from_url('https://www.oncokb.org/api/v1/v2/api-docs',\n",
    "                            config={\"validate_requests\":False,\n",
    "                                    \"validate_responses\":False,\n",
    "                                    \"validate_swagger_spec\":False})\n",
    "print(oncokb)"
   ]
  },
  {
   "cell_type": "markdown",
   "metadata": {},
   "source": [
    "To look up annotations for a variant, one can use the following endpoint:"
   ]
  },
  {
   "cell_type": "code",
   "execution_count": null,
   "metadata": {},
   "outputs": [],
   "source": [
    "variant = oncokb.Annotations.annotateMutationsByGenomicChangeGetUsingGET(\n",
    "    genomicLocation='7,140453136,140453136,A,T',\n",
    ").result()"
   ]
  },
  {
   "cell_type": "markdown",
   "metadata": {},
   "source": [
    "You can see a lot of information is provided for that particular variant if you type tab after `variant.`:"
   ]
  },
  {
   "cell_type": "code",
   "execution_count": null,
   "metadata": {},
   "outputs": [],
   "source": [
    "variant."
   ]
  },
  {
   "cell_type": "markdown",
   "metadata": {},
   "source": [
    "For instance we can see the summary information about it:"
   ]
  },
  {
   "cell_type": "code",
   "execution_count": null,
   "metadata": {},
   "outputs": [],
   "source": [
    "variant.variantSummary"
   ]
  },
  {
   "cell_type": "markdown",
   "metadata": {},
   "source": [
    "If you look up this variant on the OncoKB website: https://www.oncokb.org/gene/BRAF/V600E. You can see that there are various combinations of drugs and their level of evidence listed. This is a classification system for indicating how much we know about whether or not a patient might respond to a particular treatment. Please see https://www.oncokb.org/levels for more information about the levels of evidence for therapeutic biomarkers.\n",
    "\n",
    "We can use the same `variants` we pulled from cBioPortal in the previous section to figure out the highest level of each variant."
   ]
  },
  {
   "cell_type": "code",
   "execution_count": null,
   "metadata": {},
   "outputs": [],
   "source": [
    "%%time \n",
    "\n",
    "variants_annotated = oncokb.Annotations.annotateMutationsByGenomicChangePostUsingPOST(\n",
    "    body=[\n",
    "        {\"genomicLocation\":\"{chromosome},{start},{end},{referenceAllele},{variantAllele}\".format(**v)} \n",
    "        for v in variants\n",
    "    ],\n",
    ").result()"
   ]
  },
  {
   "cell_type": "markdown",
   "metadata": {},
   "source": [
    "Count the highes level for each variant"
   ]
  },
  {
   "cell_type": "code",
   "execution_count": null,
   "metadata": {},
   "outputs": [],
   "source": [
    "from collections import Counter\n",
    "\n",
    "counts_per_level = Counter([va.highestSensitiveLevel for va in variants_annotated if va.highestSensitiveLevel])"
   ]
  },
  {
   "cell_type": "markdown",
   "metadata": {},
   "source": [
    "Then plot them"
   ]
  },
  {
   "cell_type": "code",
   "execution_count": null,
   "metadata": {},
   "outputs": [],
   "source": [
    "pd.DataFrame(counts_per_level,index=[0]).plot(kind='bar', colors=['#4D8834','#2E2E2C','#753579'])\n",
    "plt.xticks([])\n",
    "plt.ylabel('Number of variants')\n",
    "plt.title('Actionable variants in chol_tcga_pan_can_atlas_2018')\n",
    "sns.despine()"
   ]
  },
  {
   "cell_type": "markdown",
   "metadata": {},
   "source": [
    "The current plot could be more useful. See the idea listed here for one example of how to improve it: https://github.com/mskcc/cbsp-hackathon/tree/master/1-ideas/annotate-oncokb-barchart."
   ]
  }
 ],
 "metadata": {
  "kernelspec": {
   "display_name": "Python 3",
   "language": "python",
   "name": "python3"
  },
  "language_info": {
   "codemirror_mode": {
    "name": "ipython",
    "version": 3
   },
   "file_extension": ".py",
   "mimetype": "text/x-python",
   "name": "python",
   "nbconvert_exporter": "python",
   "pygments_lexer": "ipython3",
   "version": "3.7.3"
  }
 },
 "nbformat": 4,
 "nbformat_minor": 2
}
