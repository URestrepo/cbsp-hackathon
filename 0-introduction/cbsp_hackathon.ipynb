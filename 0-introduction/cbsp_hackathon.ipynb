{
 "cells": [
  {
   "cell_type": "markdown",
   "metadata": {},
   "source": [
    "# Computation Biology Summer Program Hackathon"
   ]
  },
  {
   "cell_type": "markdown",
   "metadata": {},
   "source": [
    "This [Jupyter notebook](https://jupyter.org/) gives examples on how to use the various [REST](https://en.wikipedia.org/wiki/Representational_state_transfer) web services from the [Knowledge Systems Group](https://www.mskcc.org/research-areas/labs/nikolaus-schultz). In this hackathon we will pull data from those APIs to make visualizations."
   ]
  },
  {
   "cell_type": "markdown",
   "metadata": {},
   "source": [
    "## How to run the notebook"
   ]
  },
  {
   "cell_type": "markdown",
   "metadata": {},
   "source": [
    "This notebook can be executed on your own machine after installing Jupyter. Please install the Python 3 version of anaconda: https://www.anaconda.com/download/. After having that set up you can install Jupyter with:\n",
    "\n",
    "```bash\n",
    "conda install jupyter\n",
    "\n",
    "```\n",
    "\n",
    "For these examples we also require the [Swagger API](https://swagger.io/specification/) client `bravado`.\n",
    "\n",
    "```bash\n",
    "conda install -c conda-forge bravado\n",
    "```\n",
    "\n",
    "And the popular data analysis libraries pandas, matplotlib and seaborn:\n",
    "\n",
    "```\n",
    "conda install pandas matplotlib seaborn\n",
    "```\n",
    "\n",
    "Then clone this repo:\n",
    "\n",
    "```\n",
    "git clone https://github.com/mskcc/cbsp-hackathon\n",
    "```\n",
    "\n",
    "And run Jupyter in this folder\n",
    "```\n",
    "cd cbsp-hackathon/0-introduction\n",
    "jupyter\n",
    "```\n",
    "That should open Jupyter in a new browser window and you should be able to open this notebook using the web interface. You can then follow along with the next steps."
   ]
  },
  {
   "cell_type": "markdown",
   "metadata": {},
   "source": [
    "## How to use the notebook"
   ]
  },
  {
   "cell_type": "markdown",
   "metadata": {},
   "source": [
    "The notebook consists of cells which can be executed by clicking on one and pressing shift+f. In the toolbar at the top there is a dropdown which indicates what type of cell you have selected e.g. `Code` or [Markdown](https://en.wikipedia.org/wiki/Markdown). The former will be executed as raw Python code the latter is a markup language and will be run through a Markdown parser. Both generate HTML that will be printed directly to the notebook page.\n",
    "\n",
    "There a few keyboard shortcuts that are good to know. That is: `b` creates a new cell below the one you've selected and `a` above the one you selected. Editing a cell can be done with a single click for a code cell and a double click for a Markdown cell. A complete list of all keyboard shortcuts can be found by pressing the keyboard icon in the toolbar at the top.\n",
    "\n",
    " Give it a shot by editing one of the cells and pressing shift+f."
   ]
  },
  {
   "cell_type": "markdown",
   "metadata": {},
   "source": [
    "## Using the REST APIs"
   ]
  },
  {
   "cell_type": "markdown",
   "metadata": {},
   "source": [
    "All [REST](https://en.wikipedia.org/wiki/Representational_state_transfer) web services from the [Knowledge Systems Group](https://www.mskcc.org/research-areas/labs/nikolaus-schultz) we will be using in this tutorial have their REST APIs defined following the [Open API / Swagger specification](https://swagger.io/specification/). This allows us to use `bravado` to connect to them directly, and explore the API interactively.\n",
    "\n",
    "For example this is how to connect to the [cBioPortal](https://www.cbioportal.org) API:"
   ]
  },
  {
   "cell_type": "code",
   "execution_count": 2,
   "metadata": {},
   "outputs": [
    {
     "name": "stdout",
     "output_type": "stream",
     "text": [
      "SwaggerClient(https://www.cbioportal.org/api)\n"
     ]
    }
   ],
   "source": [
    "from bravado.client import SwaggerClient\n",
    "\n",
    "cbioportal = SwaggerClient.from_url('https://www.cbioportal.org/api/api-docs',\n",
    "                                config={\"validate_requests\":False,\"validate_responses\":False})\n",
    "print(cbioportal)"
   ]
  },
  {
   "cell_type": "markdown",
   "metadata": {},
   "source": [
    "You can now explore the API by using code completion, press `Tab` after typing `cbioportal.`:"
   ]
  },
  {
   "cell_type": "code",
   "execution_count": null,
   "metadata": {
    "collapsed": true
   },
   "outputs": [],
   "source": [
    "cbioportal."
   ]
  },
  {
   "cell_type": "markdown",
   "metadata": {},
   "source": [
    "This will give a dropdown with all the different APIs, similar to how you can see them here on the cBioPortal website: https://www.cbioportal.org/api/swagger-ui.html#/.\n",
    "\n",
    "You can also get the parameters to a specific endpoint by pressing shift+tab twice after typing the name of the specific endpoint e.g.:"
   ]
  },
  {
   "cell_type": "code",
   "execution_count": null,
   "metadata": {
    "collapsed": true
   },
   "outputs": [],
   "source": [
    "cbioportal.A_Cancer_Types.getCancerTypeUsingGET("
   ]
  },
  {
   "cell_type": "markdown",
   "metadata": {},
   "source": [
    "That shows one of the parameters is `cancerTypeId` of type `string`, the example `acc` is mentioned:"
   ]
  },
  {
   "cell_type": "code",
   "execution_count": 53,
   "metadata": {},
   "outputs": [
    {
     "name": "stdout",
     "output_type": "stream",
     "text": [
      "TypeOfCancer(cancerTypeId='acc', clinicalTrialKeywords='adrenocortical carcinoma', dedicatedColor='Purple', name='Adrenocortical Carcinoma', parent='adrenal_gland', shortName='ACC')\n"
     ]
    }
   ],
   "source": [
    "acc = cbioportal.A_Cancer_Types.getCancerTypeUsingGET(cancerTypeId='acc').result()\n",
    "print(acc)"
   ]
  },
  {
   "cell_type": "markdown",
   "metadata": {},
   "source": [
    "You can see that the JSON output returned by the cBioPortal API gets automatically converted into an object called `TypeOfCancer`. This object can be explored interactively as well by pressing tab after typing `acc.`:"
   ]
  },
  {
   "cell_type": "code",
   "execution_count": null,
   "metadata": {
    "collapsed": true
   },
   "outputs": [],
   "source": [
    "acc."
   ]
  },
  {
   "cell_type": "markdown",
   "metadata": {},
   "source": [
    "### cBioPortal API"
   ]
  },
  {
   "cell_type": "markdown",
   "metadata": {},
   "source": [
    "[cBioPortal](https://www.cbioportal.org) stores cancer genomics data from a large number of published studies. Let's figure out:\n",
    "\n",
    "- how many studies are there?\n",
    "- how many cancer types do they span?\n",
    "- how many samples in total?\n",
    "- which study has the largest number of samples?"
   ]
  },
  {
   "cell_type": "code",
   "execution_count": 13,
   "metadata": {},
   "outputs": [
    {
     "name": "stdout",
     "output_type": "stream",
     "text": [
      "In total there are 256 studies in cBioPortal, spanning 855 different types of cancer.\n"
     ]
    }
   ],
   "source": [
    "studies = cbioportal.B_Studies.getAllStudiesUsingGET().result()\n",
    "cancer_types = cbioportal.A_Cancer_Types.getAllCancerTypesUsingGET().result()\n",
    "\n",
    "print(\"In total there are {} studies in cBioPortal, spanning {} different types of cancer.\".format(\n",
    "    len(studies),\n",
    "    len(cancer_types)\n",
    "))"
   ]
  },
  {
   "cell_type": "markdown",
   "metadata": {},
   "source": [
    "To get the total number of samples in each study we have to look a bit more at the response of the studies endpoint:"
   ]
  },
  {
   "cell_type": "code",
   "execution_count": 16,
   "metadata": {},
   "outputs": [
    {
     "data": {
      "text/plain": [
       "['allSampleCount',\n",
       " 'cancerType',\n",
       " 'cancerTypeId',\n",
       " 'citation',\n",
       " 'cnaSampleCount',\n",
       " 'completeSampleCount',\n",
       " 'description',\n",
       " 'groups',\n",
       " 'importDate',\n",
       " 'methylationHm27SampleCount',\n",
       " 'miRnaSampleCount',\n",
       " 'mrnaMicroarraySampleCount',\n",
       " 'mrnaRnaSeqSampleCount',\n",
       " 'mrnaRnaSeqV2SampleCount',\n",
       " 'name',\n",
       " 'pmid',\n",
       " 'publicStudy',\n",
       " 'rppaSampleCount',\n",
       " 'sequencedSampleCount',\n",
       " 'shortName',\n",
       " 'status',\n",
       " 'studyId']"
      ]
     },
     "execution_count": 16,
     "metadata": {},
     "output_type": "execute_result"
    }
   ],
   "source": [
    "dir(studies[0])"
   ]
  },
  {
   "cell_type": "markdown",
   "metadata": {},
   "source": [
    "We can sum the `allSampleCount` values of each study in cBioPortal:"
   ]
  },
  {
   "cell_type": "code",
   "execution_count": 21,
   "metadata": {},
   "outputs": [
    {
     "name": "stdout",
     "output_type": "stream",
     "text": [
      "The total number of samples in all studies is: 77901\n"
     ]
    }
   ],
   "source": [
    "print(\"The total number of samples in all studies is: {}\".format(sum([x.allSampleCount for x in studies])))"
   ]
  },
  {
   "cell_type": "markdown",
   "metadata": {},
   "source": [
    "Let's see which study has the largest number of samples:"
   ]
  },
  {
   "cell_type": "code",
   "execution_count": 36,
   "metadata": {},
   "outputs": [
    {
     "data": {
      "text/plain": [
       "CancerStudy(allSampleCount=10945, cancerType=None, cancerTypeId='mixed', citation='Zehir et al. Nat Med 2017', cnaSampleCount=None, completeSampleCount=None, description='Targeted sequencing of 10,000 clinical cases using the MSK-IMPACT assay', groups='PUBLIC', importDate='2019-05-07 00:00:00', methylationHm27SampleCount=None, miRnaSampleCount=None, mrnaMicroarraySampleCount=None, mrnaRnaSeqSampleCount=None, mrnaRnaSeqV2SampleCount=None, name='MSK-IMPACT Clinical Sequencing Cohort (MSKCC, Nat Med 2017)', pmid='28481359', publicStudy=True, rppaSampleCount=None, sequencedSampleCount=None, shortName='MSK-IMPACT', status=0, studyId='msk_impact_2017')"
      ]
     },
     "execution_count": 36,
     "metadata": {},
     "output_type": "execute_result"
    }
   ],
   "source": [
    "sorted_studies = sorted(studies, key=lambda x: x.allSampleCount)\n",
    "sorted_studies[-1]"
   ]
  },
  {
   "cell_type": "markdown",
   "metadata": {},
   "source": [
    "Make it as little easier to read using pretty print:"
   ]
  },
  {
   "cell_type": "code",
   "execution_count": 44,
   "metadata": {},
   "outputs": [
    {
     "name": "stdout",
     "output_type": "stream",
     "text": [
      "{'allSampleCount': 10945,\n",
      " 'cancerType': None,\n",
      " 'cancerTypeId': 'mixed',\n",
      " 'citation': 'Zehir et al. Nat Med 2017',\n",
      " 'cnaSampleCount': None,\n",
      " 'completeSampleCount': None,\n",
      " 'description': 'Targeted sequencing of 10,000 clinical cases using the '\n",
      "                'MSK-IMPACT assay',\n",
      " 'groups': 'PUBLIC',\n",
      " 'importDate': '2019-05-07 00:00:00',\n",
      " 'methylationHm27SampleCount': None,\n",
      " 'miRnaSampleCount': None,\n",
      " 'mrnaMicroarraySampleCount': None,\n",
      " 'mrnaRnaSeqSampleCount': None,\n",
      " 'mrnaRnaSeqV2SampleCount': None,\n",
      " 'name': 'MSK-IMPACT Clinical Sequencing Cohort (MSKCC, Nat Med 2017)',\n",
      " 'pmid': '28481359',\n",
      " 'publicStudy': True,\n",
      " 'rppaSampleCount': None,\n",
      " 'sequencedSampleCount': None,\n",
      " 'shortName': 'MSK-IMPACT',\n",
      " 'status': 0,\n",
      " 'studyId': 'msk_impact_2017'}\n"
     ]
    }
   ],
   "source": [
    "from pprint import pprint\n",
    "pprint(vars(sorted_studies[-1])['_Model__dict'])"
   ]
  },
  {
   "cell_type": "markdown",
   "metadata": {},
   "source": [
    "Now that we've answered the inital questions we can dig a little deeper into this specific study:\n",
    "\n",
    "- How many patients are in this study?\n",
    "- What gene is most commonly mutated across the different samples?\n",
    "- Does this study span one or more types of cancer?\n",
    "\n",
    "The description of the study with id `msk_impact_2017` study mentions there are 10,000 patients sequenced. Can we find this data in the cBioPortal?"
   ]
  },
  {
   "cell_type": "code",
   "execution_count": 57,
   "metadata": {},
   "outputs": [
    {
     "name": "stdout",
     "output_type": "stream",
     "text": [
      "The msk_impact_2017 study spans 10336 patients\n"
     ]
    }
   ],
   "source": [
    "patients = cbioportal.C_Patients.getAllPatientsInStudyUsingGET(studyId='msk_impact_2017').result()\n",
    "print(\"The msk_impact_2017 study spans {} patients\".format(len(patients)))"
   ]
  },
  {
   "cell_type": "markdown",
   "metadata": {},
   "source": [
    "Now let's try to figure out what gene is most commonly mutated. For this we can check the endpoints in the group `K_Mutations`. When looking at these endpoints it seems that a study can have multiple molecular profiles. This is because samples might have been sequenced using different assays (e.g. targeting a subset of genes or all genes). An example for the `acc_tcga` study is given for a molecular profile (`acc_tcga_mutations`) and a collection of samples (`msk_impact_2017_all`). We can use the same approach for the `msk_impact_2017` study. This will take a few seconds.  You can use the command `%%time` to time a cell):"
   ]
  },
  {
   "cell_type": "code",
   "execution_count": 62,
   "metadata": {},
   "outputs": [
    {
     "name": "stdout",
     "output_type": "stream",
     "text": [
      "CPU times: user 10.9 s, sys: 407 ms, total: 11.3 s\n",
      "Wall time: 14.8 s\n"
     ]
    }
   ],
   "source": [
    "%%time\n",
    "\n",
    "mutations = cbioportal.K_Mutations.getMutationsInMolecularProfileBySampleListIdUsingGET(\n",
    "    molecularProfileId='msk_impact_2017_mutations',\n",
    "    sampleListId='msk_impact_2017_all'\n",
    ").result()"
   ]
  },
  {
   "cell_type": "markdown",
   "metadata": {},
   "source": [
    "We can explore what the mutation data structure looks like:"
   ]
  },
  {
   "cell_type": "code",
   "execution_count": 64,
   "metadata": {
    "scrolled": false
   },
   "outputs": [
    {
     "name": "stdout",
     "output_type": "stream",
     "text": [
      "{'aminoAcidChange': None,\n",
      " 'center': 'NA',\n",
      " 'driverFilter': '',\n",
      " 'driverFilterAnnotation': '',\n",
      " 'driverTiersFilter': '',\n",
      " 'driverTiersFilterAnnotation': '',\n",
      " 'endPosition': 36252995,\n",
      " 'entrezGeneId': 861,\n",
      " 'fisValue': 1.4013e-45,\n",
      " 'functionalImpactScore': '[Not Available]',\n",
      " 'gene': None,\n",
      " 'keyword': 'RUNX1 truncating',\n",
      " 'linkMsa': '[Not Available]',\n",
      " 'linkPdb': '[Not Available]',\n",
      " 'linkXvar': '[Not Available]',\n",
      " 'molecularProfileId': 'msk_impact_2017_mutations',\n",
      " 'mutationStatus': 'NA',\n",
      " 'mutationType': 'Frame_Shift_Ins',\n",
      " 'ncbiBuild': 'GRCh37',\n",
      " 'normalAltCount': None,\n",
      " 'normalRefCount': None,\n",
      " 'patientId': 'P-0008845',\n",
      " 'proteinChange': 'D96Gfs*11',\n",
      " 'proteinPosEnd': 96,\n",
      " 'proteinPosStart': 96,\n",
      " 'referenceAllele': 'NA',\n",
      " 'refseqMrnaId': 'NM_001001890.2',\n",
      " 'sampleId': 'P-0008845-T01-IM5',\n",
      " 'startPosition': 36252994,\n",
      " 'studyId': 'msk_impact_2017',\n",
      " 'tumorAltCount': 98,\n",
      " 'tumorRefCount': 400,\n",
      " 'uniquePatientKey': 'UC0wMDA4ODQ1Om1za19pbXBhY3RfMjAxNw',\n",
      " 'uniqueSampleKey': 'UC0wMDA4ODQ1LVQwMS1JTTU6bXNrX2ltcGFjdF8yMDE3',\n",
      " 'validationStatus': 'NA',\n",
      " 'variantAllele': 'CC',\n",
      " 'variantType': 'INS'}\n"
     ]
    }
   ],
   "source": [
    "pprint(vars(mutations[0])['_Model__dict'])"
   ]
  },
  {
   "cell_type": "markdown",
   "metadata": {},
   "source": [
    "It seems that the `gene` field is not filled in. To keep the response size of the API small, the API uses a parameter called `projection` that indicates whether or not to return all fields of an object or only a portion of the fields. By default it will use the `SUMMARY` projection. But because in this case we want to `gene` information, we'll use the `DETAILED` projection instead, so let's update the previous statement:"
   ]
  },
  {
   "cell_type": "code",
   "execution_count": 67,
   "metadata": {},
   "outputs": [
    {
     "name": "stdout",
     "output_type": "stream",
     "text": [
      "CPU times: user 14.4 s, sys: 549 ms, total: 14.9 s\n",
      "Wall time: 20.8 s\n"
     ]
    }
   ],
   "source": [
    "%%time \n",
    "\n",
    "mutations = cbioportal.K_Mutations.getMutationsInMolecularProfileBySampleListIdUsingGET(\n",
    "    molecularProfileId='msk_impact_2017_mutations',\n",
    "    sampleListId='msk_impact_2017_all',\n",
    "    projection='DETAILED'\n",
    ").result()"
   ]
  },
  {
   "cell_type": "markdown",
   "metadata": {},
   "source": [
    "You can see the response time is slightly slower. Let's check if the gene field is filled in now:"
   ]
  },
  {
   "cell_type": "code",
   "execution_count": 69,
   "metadata": {},
   "outputs": [
    {
     "name": "stdout",
     "output_type": "stream",
     "text": [
      "{'aminoAcidChange': None,\n",
      " 'center': 'NA',\n",
      " 'driverFilter': '',\n",
      " 'driverFilterAnnotation': '',\n",
      " 'driverTiersFilter': '',\n",
      " 'driverTiersFilterAnnotation': '',\n",
      " 'endPosition': 36252995,\n",
      " 'entrezGeneId': 861,\n",
      " 'fisValue': 1.4013e-45,\n",
      " 'functionalImpactScore': '[Not Available]',\n",
      " 'gene': Gene(chromosome='21', cytoband='21q22.12', entrezGeneId=861, hugoGeneSymbol='RUNX1', length=261534, type='protein-coding'),\n",
      " 'keyword': 'RUNX1 truncating',\n",
      " 'linkMsa': '[Not Available]',\n",
      " 'linkPdb': '[Not Available]',\n",
      " 'linkXvar': '[Not Available]',\n",
      " 'molecularProfileId': 'msk_impact_2017_mutations',\n",
      " 'mutationStatus': 'NA',\n",
      " 'mutationType': 'Frame_Shift_Ins',\n",
      " 'ncbiBuild': 'GRCh37',\n",
      " 'normalAltCount': None,\n",
      " 'normalRefCount': None,\n",
      " 'patientId': 'P-0008845',\n",
      " 'proteinChange': 'D96Gfs*11',\n",
      " 'proteinPosEnd': 96,\n",
      " 'proteinPosStart': 96,\n",
      " 'referenceAllele': 'NA',\n",
      " 'refseqMrnaId': 'NM_001001890.2',\n",
      " 'sampleId': 'P-0008845-T01-IM5',\n",
      " 'startPosition': 36252994,\n",
      " 'studyId': 'msk_impact_2017',\n",
      " 'tumorAltCount': 98,\n",
      " 'tumorRefCount': 400,\n",
      " 'uniquePatientKey': 'UC0wMDA4ODQ1Om1za19pbXBhY3RfMjAxNw',\n",
      " 'uniqueSampleKey': 'UC0wMDA4ODQ1LVQwMS1JTTU6bXNrX2ltcGFjdF8yMDE3',\n",
      " 'validationStatus': 'NA',\n",
      " 'variantAllele': 'CC',\n",
      " 'variantType': 'INS'}\n"
     ]
    }
   ],
   "source": [
    "pprint(vars(mutations[0])['_Model__dict'])"
   ]
  },
  {
   "cell_type": "markdown",
   "metadata": {},
   "source": [
    "Now that we have the gene field we can check what gene is most commonly mutated: "
   ]
  },
  {
   "cell_type": "code",
   "execution_count": 77,
   "metadata": {},
   "outputs": [
    {
     "data": {
      "text/plain": [
       "[('TP53', 4985),\n",
       " ('APC', 1698),\n",
       " ('KRAS', 1671),\n",
       " ('TERT', 1564),\n",
       " ('PIK3CA', 1519)]"
      ]
     },
     "execution_count": 77,
     "metadata": {},
     "output_type": "execute_result"
    }
   ],
   "source": [
    "from collections import Counter\n",
    "mutation_counts = Counter([m.gene.hugoGeneSymbol for m in mutations])\n",
    "mutation_counts.most_common(5)"
   ]
  },
  {
   "cell_type": "markdown",
   "metadata": {},
   "source": [
    "We can verify that these results are correct by looking at the study view of the MSK-IMPACT study on the cBioPortal website: https://www.cbioportal.org/study/summary?id=msk_impact_2017. Note that the website uses the REST API we've been using in this hackathon, so we would expect those numbers to be the same, but good to do a sanity check. We see that the number of patients is indeed 10,336. But the number of samples with a mutation in TP53 is 4,561 instead of 4,985. Can you spot why they differ?\n",
    "\n",
    "Next question:\n",
    "\n",
    "- How many samples have a TP53 mutation?\n",
    "\n",
    "For this exercise it might be useful to use a [pandas dataframe](https://pandas.pydata.org/) to be able to do grouping operations. You can convert the mutations result to a dataframe like this:"
   ]
  },
  {
   "cell_type": "code",
   "execution_count": 118,
   "metadata": {},
   "outputs": [],
   "source": [
    "import pandas as pd\n",
    "\n",
    "mdf = pd.DataFrame.from_dict([\n",
    "    # python magic that combines two dictionaries:\n",
    "    dict(\n",
    "        m.__dict__['_Model__dict'],\n",
    "        **m.__dict__['_Model__dict']['gene'].__dict__['_Model__dict']) \n",
    "    # create one item in the list for each mutation\n",
    "    for m in mutations\n",
    "])"
   ]
  },
  {
   "cell_type": "markdown",
   "metadata": {},
   "source": [
    "The DataFrame is a data type originally from `Matlab` and `R` that makes it easier to work with columnar data. Pandas brings that data type to Python. There are also several performance optimizations by it using the data types from [numpy](https://www.numpy.org/).\n",
    "\n",
    "Now that you have the data in a Dataframe you can group the mutations by the gene name and count the number of unique samples in TP53:"
   ]
  },
  {
   "cell_type": "code",
   "execution_count": 127,
   "metadata": {},
   "outputs": [
    {
     "name": "stdout",
     "output_type": "stream",
     "text": [
      "There are 4561 samples with a mutation in TP53\n"
     ]
    }
   ],
   "source": [
    "sample_count_per_gene = mdf.groupby('hugoGeneSymbol')['uniqueSampleKey'].nunique()\n",
    "\n",
    "print(\"There are {} samples with a mutation in TP53\".format(\n",
    "    sample_count_per_gene['TP53']\n",
    "))"
   ]
  },
  {
   "cell_type": "markdown",
   "metadata": {},
   "source": [
    "It would be nice to visualize this result in context of the other genes by plotting the top 10 most mutated genes. For this you can use the matplotlib interface that integrates with pandas.\n",
    "\n",
    "First  inline plotting in the notebook:"
   ]
  },
  {
   "cell_type": "code",
   "execution_count": 141,
   "metadata": {},
   "outputs": [],
   "source": [
    "%matplotlib inline"
   ]
  },
  {
   "cell_type": "code",
   "execution_count": 143,
   "metadata": {},
   "outputs": [
    {
     "data": {
      "text/plain": [
       "<matplotlib.axes._subplots.AxesSubplot at 0x1139d12e8>"
      ]
     },
     "execution_count": 143,
     "metadata": {},
     "output_type": "execute_result"
    },
    {
     "data": {
      "image/png": "[encoded data removed]",
      "text/plain": [
       "<Figure size 432x288 with 1 Axes>"
      ]
     },
     "metadata": {},
     "output_type": "display_data"
    }
   ],
   "source": [
    "sample_count_per_gene.sort_values(ascending=False).head(10).plot(kind='bar')"
   ]
  },
  {
   "cell_type": "markdown",
   "metadata": {},
   "source": [
    "Make it look a little nicer by importing seaborn:"
   ]
  },
  {
   "cell_type": "code",
   "execution_count": 151,
   "metadata": {
    "collapsed": true
   },
   "outputs": [],
   "source": [
    "import seaborn as sns\n",
    "sns.set_style(\"white\")\n",
    "sns.set_context('talk')"
   ]
  },
  {
   "cell_type": "code",
   "execution_count": 174,
   "metadata": {},
   "outputs": [
    {
     "data": {
      "image/png": "[encoded data removed]",
      "text/plain": [
       "<Figure size 432x288 with 1 Axes>"
      ]
     },
     "metadata": {},
     "output_type": "display_data"
    }
   ],
   "source": [
    "sample_count_per_gene.sort_values(ascending=False).head(10).plot(kind='bar')\n",
    "sns.despine(trim=False)"
   ]
  },
  {
   "cell_type": "markdown",
   "metadata": {},
   "source": [
    "You can further change the plot a bit by using the arguments to the plot function or using the matplotlib interface directly:"
   ]
  },
  {
   "cell_type": "code",
   "execution_count": 187,
   "metadata": {},
   "outputs": [
    {
     "data": {
      "text/plain": [
       "Text(0.5, 1.0, 'Number of mutations in genes in MSK-IMPACT (2017)')"
      ]
     },
     "execution_count": 187,
     "metadata": {},
     "output_type": "execute_result"
    },
    {
     "data": {
      "image/png": "[encoded data removed]",
      "text/plain": [
       "<Figure size 432x288 with 1 Axes>"
      ]
     },
     "metadata": {},
     "output_type": "display_data"
    }
   ],
   "source": [
    "import matplotlib.pyplot as plt\n",
    "\n",
    "sample_count_per_gene.sort_values(ascending=False).head(10).plot(\n",
    "    kind='bar',\n",
    "    ylim=[0,5000],\n",
    "    color='green'\n",
    ")\n",
    "sns.despine(trim=False)\n",
    "plt.xlabel('')\n",
    "plt.xticks(rotation=300)\n",
    "plt.ylabel('Number of samples',labelpad=20)\n",
    "plt.title('Number of mutations in genes in MSK-IMPACT (2017)',pad=25)"
   ]
  },
  {
   "cell_type": "markdown",
   "metadata": {},
   "source": [
    "A further extension of this plot could be to color the bar chart by the type of mutation (`mdf.mutationType`) and to include copy number alterations (see `L. Discrete Copy Number Alterations` endpoints)."
   ]
  }
 ],
 "metadata": {
  "kernelspec": {
   "display_name": "Python [conda env:anaconda3]",
   "language": "python",
   "name": "conda-env-anaconda3-py"
  },
  "language_info": {
   "codemirror_mode": {
    "name": "ipython",
    "version": 3
   },
   "file_extension": ".py",
   "mimetype": "text/x-python",
   "name": "python",
   "nbconvert_exporter": "python",
   "pygments_lexer": "ipython3",
   "version": "3.6.8"
  }
 },
 "nbformat": 4,
 "nbformat_minor": 2
}
